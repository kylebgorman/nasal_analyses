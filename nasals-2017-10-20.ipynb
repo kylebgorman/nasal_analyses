{
 "cells": [
  {
   "cell_type": "markdown",
   "metadata": {},
   "source": [
    "# Gaussian mixture models and Tagalog child-directed nasals"
   ]
  },
  {
   "cell_type": "markdown",
   "metadata": {},
   "source": [
    "This notebook explores using Gaussian mixture models for modeling formant measurements from nasal consonants produced by Tagalog-speaking mothers speaking to their infants collected by Chandan Narayan's lab. The data was collected longitudinally, though modeling longitudinal factors is out of scope for this notebook."
   ]
  },
  {
   "cell_type": "markdown",
   "metadata": {},
   "source": [
    "Like many Austronesian languages, Tagalog has three nasal phonemes: /m, n, ŋ/. It is believed that the contrast between the coronal and dorsal nasal is acoustically marginal (i.e. hard to hear/discern), as well as lexically marginal (i.e., it has low _functional load_). So it is of some interest to quantify the degree to which this can be discriminated automatically on the basis of acoustic measures alone. Future work ought to incorporate biases based on lexical identity as well, as in, e.g., Naomi Feldman's work, but that's out of the scope for this notebook."
   ]
  },
  {
   "cell_type": "markdown",
   "metadata": {},
   "source": [
    "For the moment, we use scikit-learn's implementation of Gaussian mixture models (`sklearn.mixtures`). Important hyperparameters include:\n",
    "\n",
    "* how we define the predictor matrix `X`\n",
    "* the number of mixtures `n_components`\n",
    "* the complexity of the covariance matrix `covariance_type`\n",
    "* whether weights are initialized randomly or via an initial k-means step `init_params`\n",
    "* parameters controlling convergence: tolerance `tol`, regularization coefficient for the covariance matrix `reg_covar`, and the maximum number of iterations `max_iter`\n",
    "\n",
    "Ideally we'd optimize hyperparameters using [BIC and a held-out development set](http://scikit-learn.org/stable/auto_examples/mixture/plot_gmm_selection.html#sphx-glr-auto-examples-mixture-plot-gmm-selection-py) or use [variational inference](http://scikit-learn.org/stable/modules/generated/sklearn.mixture.BayesianGaussianMixture.html) but that's also out of scope for this notebook."
   ]
  },
  {
   "cell_type": "code",
   "execution_count": 11,
   "metadata": {
    "collapsed": true
   },
   "outputs": [],
   "source": [
    "# I'll use logging for verbose output.\n",
    "\n",
    "import logging\n",
    "logging.basicConfig(level=logging.INFO)"
   ]
  },
  {
   "cell_type": "code",
   "execution_count": 12,
   "metadata": {
    "collapsed": true
   },
   "outputs": [],
   "source": [
    "# Data frame hacking.\n",
    "\n",
    "from numpy import stack\n",
    "from pandas import read_csv\n",
    "from pandas import DataFrame"
   ]
  },
  {
   "cell_type": "code",
   "execution_count": 13,
   "metadata": {
    "collapsed": true
   },
   "outputs": [],
   "source": [
    "# Model fitting.\n",
    "\n",
    "from sklearn.mixture import GaussianMixture"
   ]
  },
  {
   "cell_type": "code",
   "execution_count": 14,
   "metadata": {
    "collapsed": true
   },
   "outputs": [],
   "source": [
    "# Scoring.\n",
    "\n",
    "from bcubed import ClusterScore\n",
    "from sklearn.metrics.cluster import normalized_mutual_info_score"
   ]
  },
  {
   "cell_type": "code",
   "execution_count": 3,
   "metadata": {
    "collapsed": true
   },
   "outputs": [],
   "source": [
    "# We'll use my zip code as a random seed so that eveything's perfectly repeatable.\n",
    "SEED = 11215"
   ]
  },
  {
   "cell_type": "code",
   "execution_count": 15,
   "metadata": {
    "collapsed": true
   },
   "outputs": [],
   "source": [
    "## Loads the data.\n",
    "\n",
    "# Pseudorandomly chooses a parent/child infant dyad to model.\n",
    "FILENAME = \"nasals_s03f.csv\"\n",
    "\n",
    "# Reads the CSV into memory using Pandas.\n",
    "d = read_csv(FILENAME)\n",
    "\n",
    "# Subsets it: we only model cases where the following vowel is \"A\".\n",
    "d = d[d[\"Following Vowel\"] == \"A\"]"
   ]
  },
  {
   "cell_type": "code",
   "execution_count": 16,
   "metadata": {},
   "outputs": [
    {
     "name": "stderr",
     "output_type": "stream",
     "text": [
      "INFO:root:Size of dataset: 8059 x 3\n"
     ]
    }
   ],
   "source": [
    "## Constructs the predictor matrix.\n",
    "\n",
    "# Identifies the columns we'll use.\n",
    "X_COL_NAMES = (\"Juncture F1_Bark\", \"Juncture F2_Bark\", \"Juncture F3_Bark\")\n",
    "\n",
    "# Filters out rows with NAs in those columns.\n",
    "d = d.dropna(axis=0, how='any', subset=X_COL_NAMES)\n",
    "\n",
    "X = stack((d[col_name].values for col_name in X_COL_NAMES), axis=1)\n",
    "logging.info(\"Size of dataset: %d x %d\", *X.shape)"
   ]
  },
  {
   "cell_type": "code",
   "execution_count": 17,
   "metadata": {},
   "outputs": [
    {
     "data": {
      "text/plain": [
       "N     6209\n",
       "M     1717\n",
       "NG     133\n",
       "Name: Nasal Segment, dtype: int64"
      ]
     },
     "execution_count": 17,
     "metadata": {},
     "output_type": "execute_result"
    }
   ],
   "source": [
    "## Constructs the prediction array and does some exploratory analysis.\n",
    "\n",
    "Y_pandas = d[\"Nasal Segment\"]\n",
    "Y_pandas.value_counts()"
   ]
  },
  {
   "cell_type": "code",
   "execution_count": 31,
   "metadata": {
    "collapsed": true
   },
   "outputs": [],
   "source": [
    "## Constructs empty model.\n",
    "\n",
    "# Positive non-zero integer; smaller values give less complex models.\n",
    "N_COMPONENTS = 5\n",
    "# One of: \"full\", \"tied\", diag\", \"spherical\"; later values give less complex models.\n",
    "COVARIANCE_TYPE = \"full\"\n",
    "\n",
    "# TODO(kbg): Add the convergence-related hyperparameters here.\n",
    "\n",
    "model_frequentist = GaussianMixture(n_components=N_COMPONENTS,\n",
    "                                    covariance_type=COVARIANCE_TYPE,\n",
    "                                    random_state=SEED)"
   ]
  },
  {
   "cell_type": "code",
   "execution_count": 32,
   "metadata": {},
   "outputs": [
    {
     "name": "stderr",
     "output_type": "stream",
     "text": [
      "INFO:root:Resubstitution log-likelihood: -4.623\n"
     ]
    }
   ],
   "source": [
    "## Fits the model. Might take a moment.\n",
    "\n",
    "model_frequentist.fit(X)\n",
    "\n",
    "# Logs resubstitution statistics. I am getting log-likelihoods in the range [-20, -21]\n",
    "# when I use a reasonable number of components.\n",
    "logging.info(\"Resubstitution log-likelihood: %.3f\", model_frequentist.score(X))"
   ]
  },
  {
   "cell_type": "code",
   "execution_count": 39,
   "metadata": {
    "collapsed": true
   },
   "outputs": [],
   "source": [
    "## Defines a method for scoring.\n",
    "\n",
    "def score_clustering(gld, hyp, logger):\n",
    "  \"\"\"Logs scoring metrics to the provided logger.\n",
    "\n",
    "  Args:\n",
    "    gld: An iterable of cluster labels for the gold clusters.\n",
    "    hyp: An iterable of cluster labels for the hypothesized clusters, of equal\n",
    "        length to, and corresponding in order to, the first argument.\n",
    "  \"\"\"\n",
    "  # B-Cubed element-averaged F1.\n",
    "  logger(\"B-Cubed F1:\\t\\t%.3f\", ClusterScore(gld, hyp).f1())\n",
    "  # Normalized mutual information.\n",
    "  logger(\"Normalized MI:\\t%.3f\", normalized_mutual_info_score(gld, hyp))"
   ]
  },
  {
   "cell_type": "code",
   "execution_count": null,
   "metadata": {},
   "outputs": [],
   "source": [
    "## Predicts the components and does some exploratory analysis.\n",
    "\n",
    "# Gets component IDs for each sample and builds a data frame with the nasal phonemes.\n",
    "fit_frequentist = DataFrame({\"nasal\": Y_pandas, \"component\": model_frequentist.predict(X)})\n",
    "\n",
    "# Calls the scoring function. This can be a bit slow because my implementation of B-Cubed\n",
    "# isn't so hot.\n",
    "score_clustering(fit_frequentist[\"nasal\"], fit_frequentist[\"component\"], logging.info)"
   ]
  }
 ],
 "metadata": {
  "kernelspec": {
   "display_name": "Python 2",
   "language": "python",
   "name": "python2"
  },
  "language_info": {
   "codemirror_mode": {
    "name": "ipython",
    "version": 2
   },
   "file_extension": ".py",
   "mimetype": "text/x-python",
   "name": "python",
   "nbconvert_exporter": "python",
   "pygments_lexer": "ipython2",
   "version": "2.7.6"
  }
 },
 "nbformat": 4,
 "nbformat_minor": 2
}
